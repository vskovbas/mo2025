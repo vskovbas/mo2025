{
  "cells": [
    {
      "cell_type": "markdown",
      "id": "8f85e9d3",
      "metadata": {
        "id": "8f85e9d3"
      },
      "source": [
        "# 03 Ввод данных. input()"
      ]
    },
    {
      "cell_type": "markdown",
      "id": "cc58dfa3",
      "metadata": {
        "id": "cc58dfa3"
      },
      "source": [
        "Познакомимся с функцией input() - ввод. Это функция позволяет нам просить\n",
        "пользователя что-нибудь ввести или принять на ввод какие-то данные."
      ]
    },
    {
      "cell_type": "code",
      "execution_count": 2,
      "id": "3698fa45",
      "metadata": {
        "scrolled": true,
        "colab": {
          "base_uri": "https://localhost:8080/"
        },
        "id": "3698fa45",
        "outputId": "18b0bdae-dcbe-4e19-f35f-2042a25c66f1"
      },
      "outputs": [
        {
          "output_type": "stream",
          "name": "stdout",
          "text": [
            "Как вас зовут?Сева\n",
            "Сева\n"
          ]
        }
      ],
      "source": [
        "x = input('Как вас зовут?')\n",
        "print(x)"
      ]
    },
    {
      "cell_type": "markdown",
      "id": "2e60102b",
      "metadata": {
        "id": "2e60102b"
      },
      "source": [
        "'Как вас зовут?' - аргумент функции input(), который будет отображаться в строке ввода. Он необязателен, но он может быть полезен для вас (особенно, если в задаче требуется ввести больше одной строки данных и нужно не запутаться).\n",
        "\n",
        "Обратите внимание, что функция  input() все сохраняет в строковом формате данных. Но мы можем сделать из\n",
        "числа-строки число-число с помощью функции int(). Введите \"1\" в обоих случаях и сравните результат."
      ]
    },
    {
      "cell_type": "code",
      "execution_count": 3,
      "id": "450ca3c0",
      "metadata": {
        "colab": {
          "base_uri": "https://localhost:8080/"
        },
        "id": "450ca3c0",
        "outputId": "9a67dc23-072e-41d3-8dcb-70adc8e04cf7"
      },
      "outputs": [
        {
          "output_type": "stream",
          "name": "stdout",
          "text": [
            "1\n",
            "<class 'str'>\n",
            "1\n",
            "<class 'int'>\n"
          ]
        }
      ],
      "source": [
        "print(type(input()))\n",
        "print(type(int(input())))"
      ]
    },
    {
      "cell_type": "markdown",
      "id": "d6194b8e",
      "metadata": {
        "id": "d6194b8e"
      },
      "source": [
        "Нужно следить за тем, какие данные вы считываете и менять их при необходимости. Сравните два примере ниже."
      ]
    },
    {
      "cell_type": "code",
      "execution_count": 4,
      "id": "0888dc6c",
      "metadata": {
        "colab": {
          "base_uri": "https://localhost:8080/"
        },
        "id": "0888dc6c",
        "outputId": "52bf7fb9-832a-400b-b6f1-af9380844f04"
      },
      "outputs": [
        {
          "output_type": "stream",
          "name": "stdout",
          "text": [
            "Input x value: 1\n",
            "Input y value: 1\n",
            "11\n"
          ]
        }
      ],
      "source": [
        "x = input('Input x value: ')\n",
        "y = input('Input y value: ')\n",
        "print(x + y) # произошла склейка строк, по умолчанию input() сохраняет значение типа str"
      ]
    },
    {
      "cell_type": "code",
      "execution_count": 5,
      "id": "9a993185",
      "metadata": {
        "colab": {
          "base_uri": "https://localhost:8080/"
        },
        "id": "9a993185",
        "outputId": "f1fd53c9-2e35-45e7-875a-5b6ef93434f0"
      },
      "outputs": [
        {
          "output_type": "stream",
          "name": "stdout",
          "text": [
            "Input x value: 1\n",
            "Input y value: 1\n",
            "2\n"
          ]
        }
      ],
      "source": [
        "x = int(input('Input x value: '))\n",
        "y = int(input('Input y value: '))\n",
        "print(x + y) # вот теперь произошло сложение чисел"
      ]
    },
    {
      "cell_type": "markdown",
      "id": "2a001194",
      "metadata": {
        "id": "2a001194"
      },
      "source": [
        "## Задача 1. Pig Latin 1\n",
        "\n",
        "Pig Latin - вымышленный язык, который в конец каждого слова подставляет 'yay' (на самом деле оригинальные условия задачи несколько хитрее, но мы будем к ней возвращаться по ходу курса.\n",
        "\n",
        "**Формат ввода**  \n",
        "Пользователь вводит слова.\n",
        "\n",
        "**Формат вывода**\n",
        "Слово на Pig Latin.\n",
        "\n",
        "\n",
        "#### Примеры\n",
        "Тест 1  \n",
        "**Ввод:**  \n",
        "apple\n",
        "\n",
        "**Вывод:**  \n",
        "appleyay"
      ]
    },
    {
      "cell_type": "code",
      "execution_count": 1,
      "id": "f3e532fa",
      "metadata": {
        "colab": {
          "base_uri": "https://localhost:8080/"
        },
        "id": "f3e532fa",
        "outputId": "cf46813c-1240-4991-ebb4-83e7beb24a6e"
      },
      "outputs": [
        {
          "output_type": "stream",
          "name": "stdout",
          "text": [
            "Введите слово: игра\n",
            "играyay\n"
          ]
        }
      ],
      "source": [
        "word = input('Введите слово: ')\n",
        "print(word+'yay')"
      ]
    },
    {
      "cell_type": "markdown",
      "id": "ea45a103",
      "metadata": {
        "id": "ea45a103"
      },
      "source": [
        "## Задача 2. Как перевести градусы Цельсия в градусы Фаренгейта\n",
        "Чтобы при помощи Python перевести градусы Цельсия в градусы Фаренгейта (или наоборот), необходимо реализовать в коде следующие формулы:\n",
        "\n",
        "Градусы Цельсия в градусы Фаренгейта:\n",
        "F = 1.8 x C + 32\n",
        "\n",
        "Градусы Фаренгейта в градусы Цельсия:\n",
        "C = (F - 32) / 1.8"
      ]
    },
    {
      "cell_type": "code",
      "execution_count": null,
      "id": "a8045be4",
      "metadata": {
        "id": "a8045be4"
      },
      "outputs": [],
      "source": [
        "# Запросить пользовательский ввод (температуру в градусах Цельсия)\n",
        "c = float(input(\"Give me a temperature in celcius: \"))\n",
        "# Преобразовать значение, введенное пользователем, в градусы Фаренгейта\n",
        "f = 1.8 * c + 32\n",
        "# Вывести результат\n",
        "print(\"The temperature is \",f,\" in fahrenheit\")"
      ]
    },
    {
      "cell_type": "code",
      "execution_count": 6,
      "id": "aeea655a",
      "metadata": {
        "colab": {
          "base_uri": "https://localhost:8080/"
        },
        "id": "aeea655a",
        "outputId": "a2999dea-eb05-4d1d-a9fc-9fedf5efbd2d"
      },
      "outputs": [
        {
          "output_type": "stream",
          "name": "stdout",
          "text": [
            "Give me a temperature in celcius: 22\n",
            "The temperature is  71.6  in fahrenheit\n"
          ]
        }
      ],
      "source": [
        "# Здесь напишите программу для преобразования градусов Фаренгейта в градусы Цельсия\n",
        "c = float(input(\"Give me a temperature in celcius: \"))\n",
        "f = 1.8 * c + 32\n",
        "print(\"The temperature is \",f,\" in fahrenheit\")"
      ]
    },
    {
      "cell_type": "markdown",
      "id": "8f28db59",
      "metadata": {
        "id": "8f28db59"
      },
      "source": [
        "## Импорт модулей\n",
        "По мере количества строк вашего кода будет не лишним начинать пользоваться модулями.\n",
        "\n",
        "Модуль — это файл, содержащий функции и операторы. У всех модулей в Python есть имя, которое заканчивается расширением .py.\n",
        "\n",
        "Операторы внутри модуля могут быть импортированы в другой модуль или в интерпретатор Python. Для этого мы используем ключевое слово import.\n",
        "\n",
        "Например, мы можем импортировать модуль math. Делается это следующим образом:\n",
        "\n",
        "`import math`"
      ]
    },
    {
      "cell_type": "code",
      "execution_count": 7,
      "id": "abba2114",
      "metadata": {
        "colab": {
          "base_uri": "https://localhost:8080/"
        },
        "id": "abba2114",
        "outputId": "766ff838-3eb0-4583-9006-3e267c270a1d"
      },
      "outputs": [
        {
          "output_type": "stream",
          "name": "stdout",
          "text": [
            "3.141592653589793\n"
          ]
        }
      ],
      "source": [
        "import math\n",
        "print(math.pi)"
      ]
    },
    {
      "cell_type": "markdown",
      "id": "0a0506bf",
      "metadata": {
        "id": "0a0506bf"
      },
      "source": [
        "## Модуль random\n",
        "Модуль random позволяет генерировать случайные числа. Прежде чем использовать модуль, необходимо подключить его\n",
        "\n",
        "`import random`"
      ]
    },
    {
      "cell_type": "markdown",
      "id": "cf95f26e",
      "metadata": {
        "id": "cf95f26e"
      },
      "source": [
        "## randint\n",
        "\n",
        "Функция randint(a, b) получает на вход два целых числа и возвращает случайное значение из диапазона [a,b]    (a и b входят в этот диапазон).\n"
      ]
    },
    {
      "cell_type": "code",
      "execution_count": 9,
      "id": "15d2a919",
      "metadata": {
        "colab": {
          "base_uri": "https://localhost:8080/"
        },
        "id": "15d2a919",
        "outputId": "e92b3d36-bf53-4fec-f234-1da03bc36583"
      },
      "outputs": [
        {
          "output_type": "stream",
          "name": "stdout",
          "text": [
            "23\n"
          ]
        }
      ],
      "source": [
        "import random\n",
        "\n",
        "random_number = random.randint(0, 125)\n",
        "print(random_number)"
      ]
    },
    {
      "cell_type": "markdown",
      "id": "984611ba",
      "metadata": {
        "id": "984611ba"
      },
      "source": [
        "## randrange\n",
        "\n",
        "В функцию randrange(start, stop[, step]) передают три целых числа:\n",
        "\n",
        "start\n",
        " – начало диапазона (входит в последовательность);\n",
        "\n",
        "stop\n",
        " – конец диапазона (в последовательность не входит);\n",
        "\n",
        "step\n",
        " – шаг генерации (если на его месте написать 0, получим ошибку \"ValueError\").\n",
        "\n",
        "На выходе функция выдает случайное число в заданном диапазоне"
      ]
    },
    {
      "cell_type": "code",
      "execution_count": 11,
      "id": "903cde2b",
      "metadata": {
        "colab": {
          "base_uri": "https://localhost:8080/"
        },
        "id": "903cde2b",
        "outputId": "30bb1157-0777-4eb4-f6de-a3f2914643cd"
      },
      "outputs": [
        {
          "output_type": "stream",
          "name": "stdout",
          "text": [
            "57\n"
          ]
        }
      ],
      "source": [
        "import random\n",
        "\n",
        "random_number = random.randrange(1, 100, 2)\n",
        "print(random_number)"
      ]
    },
    {
      "cell_type": "markdown",
      "id": "9c2e9ce0",
      "metadata": {
        "id": "9c2e9ce0"
      },
      "source": [
        "## random\n",
        "\n",
        "Функция  random()  выдает вещественные числа, в диапазоне [0.0, 1.0)\n",
        "\n",
        " (включая 0.0, но не включая 1.0)."
      ]
    },
    {
      "cell_type": "code",
      "execution_count": 12,
      "id": "2b716608",
      "metadata": {
        "colab": {
          "base_uri": "https://localhost:8080/"
        },
        "id": "2b716608",
        "outputId": "e4db7cd3-2a5c-460d-861d-d1dafde34897"
      },
      "outputs": [
        {
          "output_type": "stream",
          "name": "stdout",
          "text": [
            "0.9625341852360573\n"
          ]
        }
      ],
      "source": [
        "import random\n",
        "\n",
        "random_number = random.random()\n",
        "print(random_number)"
      ]
    },
    {
      "cell_type": "markdown",
      "id": "8d4f5f10",
      "metadata": {
        "id": "8d4f5f10"
      },
      "source": [
        "## Задача 3. Как перевести случайные градусы Цельсия в градусы Фаренгейта.\n",
        "\n",
        "Сделайте снова перевод градусов Цельсия в Фаренгейт, только теперь не запрашивайте градусы с клавиатуры, а сгенерируйте случайно в диапазоне [-50, 42]"
      ]
    },
    {
      "cell_type": "code",
      "execution_count": 15,
      "id": "39f06ca3",
      "metadata": {
        "colab": {
          "base_uri": "https://localhost:8080/"
        },
        "id": "39f06ca3",
        "outputId": "cade6b66-efcb-4548-bd91-dd229cebf766"
      },
      "outputs": [
        {
          "output_type": "stream",
          "name": "stdout",
          "text": [
            "The temperature is  41.0  in fahrenheit\n"
          ]
        }
      ],
      "source": [
        "import random\n",
        "\n",
        "random_number = random.randint(-50, 42)\n",
        "c = random_number\n",
        "f = 1.8 * c + 32\n",
        "print(\"The temperature is \",f,\" in fahrenheit\")"
      ]
    },
    {
      "cell_type": "markdown",
      "id": "06be6026",
      "metadata": {
        "id": "06be6026"
      },
      "source": [
        "# Задание 1\n",
        "\n",
        "Карандаш стоит X рублей за штуку. Покупатель дал кассиру Y рублей и хочет купить 8 карандашей. Какую сдачу он должен получить? Ответ дайте в рублях. (X и Y запросить у пользователя)\n"
      ]
    },
    {
      "cell_type": "code",
      "execution_count": 19,
      "id": "287d09ee",
      "metadata": {
        "id": "287d09ee",
        "colab": {
          "base_uri": "https://localhost:8080/"
        },
        "outputId": "03f550ab-8ee1-41a0-ac4a-7a1f5978bd51"
      },
      "outputs": [
        {
          "output_type": "stream",
          "name": "stdout",
          "text": [
            "Введите стоимость карандаша5\n",
            "Введите сумму, которую покупатель дал кассиру50\n",
            "10.0\n"
          ]
        }
      ],
      "source": [
        "X = float(input(\"Введите стоимость карандаша\"))\n",
        "Y = float(input(\"Введите сумму, которую покупатель дал кассиру\"))\n",
        "\n",
        "ammount = 8\n",
        "\n",
        "total_cost = X * ammount\n",
        "\n",
        "change = Y - total_cost\n",
        "\n",
        "print(change)"
      ]
    },
    {
      "cell_type": "markdown",
      "id": "fbba2f6b",
      "metadata": {
        "id": "fbba2f6b"
      },
      "source": [
        "# Задание 3\n",
        "\n",
        "Ребенок в день съедает X творожка. Творожок продается в упаковках по Y штук. Какое наименьшее число упаковок надо купить, чтобы ребенку хватило на две недели?  (X и Y запросить у пользователя)"
      ]
    },
    {
      "cell_type": "code",
      "execution_count": 22,
      "id": "b6861407",
      "metadata": {
        "id": "b6861407",
        "colab": {
          "base_uri": "https://localhost:8080/"
        },
        "outputId": "02add100-01b7-4e78-8d6b-006d98d842d6"
      },
      "outputs": [
        {
          "output_type": "stream",
          "name": "stdout",
          "text": [
            "Введите, сколько творожка съедает ребенок в день3\n",
            "Введите, сколько штук творожка в одной упаковке5\n",
            "9\n"
          ]
        }
      ],
      "source": [
        "X = int(input(\"Введите, сколько творожка съедает ребенок в день\"))\n",
        "Y = int(input(\"Введите, сколько штук творожка в одной упаковке\"))\n",
        "\n",
        "days = 14\n",
        "\n",
        "total_needed = X * days\n",
        "\n",
        "import math\n",
        "\n",
        "packs_needed = math.ceil(total_needed / Y)\n",
        "\n",
        "print(packs_needed)"
      ]
    },
    {
      "cell_type": "markdown",
      "id": "259d0e60",
      "metadata": {
        "id": "259d0e60"
      },
      "source": [
        "# Задание 4\n",
        "\n",
        "Килограмм картошки стоит Х рублей. У Олега есть 1000 р, из этой суммы он 640 р должен положить на телефон, а на остальные деньги он купил картошку. Сколько килограмм купил Олег, если он получил сдачу Y рублей?\n",
        " (X и Y запросить у пользователя)"
      ]
    },
    {
      "cell_type": "code",
      "execution_count": 23,
      "id": "8f9fa034",
      "metadata": {
        "id": "8f9fa034",
        "colab": {
          "base_uri": "https://localhost:8080/"
        },
        "outputId": "833043dd-e572-45ca-811c-bbee033eb30b"
      },
      "outputs": [
        {
          "output_type": "stream",
          "name": "stdout",
          "text": [
            "Введите стоимость килограмма картошки50\n",
            "Введите сумму сдачи, которую получил Олег10\n",
            "7.0\n"
          ]
        }
      ],
      "source": [
        "X = float(input(\"Введите стоимость килограмма картошки\"))\n",
        "Y = float(input(\"Введите сумму сдачи, которую получил Олег\"))\n",
        "\n",
        "total_money = 1000\n",
        "money_for_phone = 640\n",
        "\n",
        "remaining_money = total_money - money_for_phone - Y\n",
        "\n",
        "kg_of_potatoes = remaining_money / X\n",
        "\n",
        "print(kg_of_potatoes)"
      ]
    }
  ],
  "metadata": {
    "kernelspec": {
      "display_name": "Python 3 (ipykernel)",
      "language": "python",
      "name": "python3"
    },
    "language_info": {
      "codemirror_mode": {
        "name": "ipython",
        "version": 3
      },
      "file_extension": ".py",
      "mimetype": "text/x-python",
      "name": "python",
      "nbconvert_exporter": "python",
      "pygments_lexer": "ipython3",
      "version": "3.9.13"
    },
    "colab": {
      "provenance": []
    }
  },
  "nbformat": 4,
  "nbformat_minor": 5
}