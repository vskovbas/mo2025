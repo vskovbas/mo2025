{
  "cells": [
    {
      "cell_type": "markdown",
      "id": "c045c11a",
      "metadata": {
        "id": "c045c11a"
      },
      "source": [
        "# 2. Переменные\n",
        "\n",
        "## 2.1. Правила для имен переменных\n",
        "* Имя не может начинаться с числа.\n",
        "* В имени не может быть пробелов, вместо этого используйте нижнее подчёркивание: \"_\".\n",
        "* Имя не может содержать следующие символы:\n",
        "\n",
        "      :'\",<>/?|\\!@#%^&*~-+\n",
        "       \n",
        "* Считается хорошей практикой писать имена в нижнем регистре - см. [PEP8](https://www.python.org/dev/peps/pep-0008/#function-and-variable-names)\n",
        "* Не используйте в качестве названий переменных ключевые слова Python, такие как `list` и `str`\n",
        "* Не используйте следующие имена из одной буквы: 'l' (нижний регистр буквы L), 'O' (Верхний регистр буквы о), и 'I' (верхний регистр буквы i), потому что их можно спутать с единицей '1' и нулем '0'."
      ]
    },
    {
      "cell_type": "markdown",
      "id": "eb7ee4ab",
      "metadata": {
        "id": "eb7ee4ab"
      },
      "source": [
        "## 2.2. Динамические типы данных\n",
        "\n",
        "Python использует динамические типы данных (*dynamic typing*), то есть Вы можете присваивать переменным значения сначала одного, а затем другого типа. Благодаря этому Python очень гибко работает с типами данных; это отличает его от тех языков программирования, в которых типы данных *статичные*."
      ]
    },
    {
      "cell_type": "code",
      "execution_count": null,
      "id": "7ae68f07",
      "metadata": {
        "collapsed": true,
        "id": "7ae68f07"
      },
      "outputs": [],
      "source": [
        "my_dogs = 2"
      ]
    },
    {
      "cell_type": "code",
      "execution_count": null,
      "id": "2a61a3af",
      "metadata": {
        "id": "2a61a3af",
        "outputId": "52dc8310-c390-43f7-cf16-e9ff2b346ff1"
      },
      "outputs": [
        {
          "data": {
            "text/plain": [
              "2"
            ]
          },
          "execution_count": 2,
          "metadata": {},
          "output_type": "execute_result"
        }
      ],
      "source": [
        "my_dogs"
      ]
    },
    {
      "cell_type": "code",
      "execution_count": null,
      "id": "e4309b20",
      "metadata": {
        "collapsed": true,
        "id": "e4309b20"
      },
      "outputs": [],
      "source": [
        "my_dogs = ['Sammy', 'Frankie']"
      ]
    },
    {
      "cell_type": "code",
      "execution_count": null,
      "id": "30282a8b",
      "metadata": {
        "id": "30282a8b",
        "outputId": "8db39b3c-3131-4371-e37f-a893c44591fc"
      },
      "outputs": [
        {
          "data": {
            "text/plain": [
              "['Sammy', 'Frankie']"
            ]
          },
          "execution_count": 4,
          "metadata": {},
          "output_type": "execute_result"
        }
      ],
      "source": [
        "my_dogs"
      ]
    },
    {
      "cell_type": "markdown",
      "id": "03a97ccb",
      "metadata": {
        "id": "03a97ccb"
      },
      "source": [
        "### Плюсы и минусы динамических типов данных\n",
        "#### Плюсы\n",
        "* легче работать\n",
        "* быстрее время разработки\n",
        "\n",
        "#### Минусы\n",
        "* можно получить неожиданные ошибки!\n",
        "* нужно следить за типами данных - `type()`"
      ]
    },
    {
      "cell_type": "markdown",
      "id": "0f4894ea",
      "metadata": {
        "id": "0f4894ea"
      },
      "source": [
        "## 2.3. Присвоение переменных\n",
        "Присвоение переменных пишется вот так: `name = object`, где оператор `=` это оператор присвоения (*assignment operator*)"
      ]
    },
    {
      "cell_type": "code",
      "execution_count": null,
      "id": "4360ef71",
      "metadata": {
        "collapsed": true,
        "id": "4360ef71"
      },
      "outputs": [],
      "source": [
        "a = 5"
      ]
    },
    {
      "cell_type": "code",
      "execution_count": null,
      "id": "fe5f1b6e",
      "metadata": {
        "id": "fe5f1b6e",
        "outputId": "54053798-b63e-4a42-8b0f-7412bc3f331c"
      },
      "outputs": [
        {
          "data": {
            "text/plain": [
              "5"
            ]
          },
          "execution_count": 6,
          "metadata": {},
          "output_type": "execute_result"
        }
      ],
      "source": [
        "a"
      ]
    },
    {
      "cell_type": "markdown",
      "id": "b43c1536",
      "metadata": {
        "id": "b43c1536"
      },
      "source": [
        "Мы присвоили переменной с именем 'a' числовой объект `5`.<br>Давайте присвоим `a` другое значение:"
      ]
    },
    {
      "cell_type": "code",
      "execution_count": null,
      "id": "60ca0cb2",
      "metadata": {
        "collapsed": true,
        "id": "60ca0cb2"
      },
      "outputs": [],
      "source": [
        "a = 10"
      ]
    },
    {
      "cell_type": "code",
      "execution_count": null,
      "id": "11090ca6",
      "metadata": {
        "scrolled": true,
        "id": "11090ca6",
        "outputId": "c9969f34-679f-47be-81af-b35b6561b9cb"
      },
      "outputs": [
        {
          "data": {
            "text/plain": [
              "10"
            ]
          },
          "execution_count": 8,
          "metadata": {},
          "output_type": "execute_result"
        }
      ],
      "source": [
        "a"
      ]
    },
    {
      "cell_type": "markdown",
      "id": "12ec95aa",
      "metadata": {
        "id": "12ec95aa"
      },
      "source": [
        "Теперь можно использовать `a` вместо числа `10`:"
      ]
    },
    {
      "cell_type": "code",
      "execution_count": null,
      "id": "acf32c87",
      "metadata": {
        "id": "acf32c87",
        "outputId": "0bbe552d-961d-40b0-8213-00264193b2ee"
      },
      "outputs": [
        {
          "data": {
            "text/plain": [
              "20"
            ]
          },
          "execution_count": 9,
          "metadata": {},
          "output_type": "execute_result"
        }
      ],
      "source": [
        "a + a"
      ]
    },
    {
      "cell_type": "markdown",
      "id": "09da8d05",
      "metadata": {
        "id": "09da8d05"
      },
      "source": [
        "## 2.3. Переопределение переменных\n",
        "Python позволяет переопределять переменные, ссылаясь на тот же самый объект."
      ]
    },
    {
      "cell_type": "code",
      "execution_count": null,
      "id": "03472706",
      "metadata": {
        "collapsed": true,
        "id": "03472706"
      },
      "outputs": [],
      "source": [
        "a = a + 10"
      ]
    },
    {
      "cell_type": "code",
      "execution_count": null,
      "id": "df7d3626",
      "metadata": {
        "id": "df7d3626",
        "outputId": "8faf15bc-58fd-4ad1-bb6b-06785d428308"
      },
      "outputs": [
        {
          "data": {
            "text/plain": [
              "20"
            ]
          },
          "execution_count": 11,
          "metadata": {},
          "output_type": "execute_result"
        }
      ],
      "source": [
        "a"
      ]
    },
    {
      "cell_type": "markdown",
      "id": "7fa225cf",
      "metadata": {
        "id": "7fa225cf"
      },
      "source": [
        "И это можно написать в короткой форме. Python позволяет складывать, вычитать, умножать и делить числа с помощью `+=`, `-=`, `*=` и `/=`."
      ]
    },
    {
      "cell_type": "code",
      "execution_count": null,
      "id": "2f3828c8",
      "metadata": {
        "id": "2f3828c8"
      },
      "outputs": [],
      "source": [
        "a += 10 # это означает:  a = a + 10"
      ]
    },
    {
      "cell_type": "code",
      "execution_count": null,
      "id": "2e0043a6",
      "metadata": {
        "id": "2e0043a6",
        "outputId": "c292a7f6-eabd-4aa7-85f5-801e2c50b17a"
      },
      "outputs": [
        {
          "data": {
            "text/plain": [
              "30"
            ]
          },
          "execution_count": 13,
          "metadata": {},
          "output_type": "execute_result"
        }
      ],
      "source": [
        "a"
      ]
    },
    {
      "cell_type": "code",
      "execution_count": null,
      "id": "dedc65d1",
      "metadata": {
        "collapsed": true,
        "id": "dedc65d1"
      },
      "outputs": [],
      "source": [
        "a *= 2  # это означает:  a = a * 10"
      ]
    },
    {
      "cell_type": "code",
      "execution_count": null,
      "id": "419f2696",
      "metadata": {
        "id": "419f2696",
        "outputId": "74004532-f01b-4925-92bc-de4592126ca3"
      },
      "outputs": [
        {
          "data": {
            "text/plain": [
              "60"
            ]
          },
          "execution_count": 15,
          "metadata": {},
          "output_type": "execute_result"
        }
      ],
      "source": [
        "a"
      ]
    },
    {
      "cell_type": "markdown",
      "id": "23d8497c",
      "metadata": {
        "id": "23d8497c"
      },
      "source": [
        "## 2.4. Определение типа переменной с помощью `type()`\n",
        "Вы можете узнать тип объекта, который был присвоен переменной, с помощью встроенной функции `type()`. Часто используемые типы данных:\n",
        "* **int** (для integer)\n",
        "* **float**\n",
        "* **str** (для string)\n",
        "* **list**\n",
        "* **tuple**\n",
        "* **dict** (для dictionary)\n",
        "* **set**\n",
        "* **bool** (для Boolean True/False)"
      ]
    },
    {
      "cell_type": "code",
      "execution_count": null,
      "id": "dd69b431",
      "metadata": {
        "id": "dd69b431",
        "outputId": "82a72dcd-7569-4bac-beab-13a350cabaa0"
      },
      "outputs": [
        {
          "data": {
            "text/plain": [
              "int"
            ]
          },
          "execution_count": 16,
          "metadata": {},
          "output_type": "execute_result"
        }
      ],
      "source": [
        "type(a)"
      ]
    },
    {
      "cell_type": "code",
      "execution_count": null,
      "id": "d5c0be20",
      "metadata": {
        "collapsed": true,
        "id": "d5c0be20"
      },
      "outputs": [],
      "source": [
        "a = (1,2)"
      ]
    },
    {
      "cell_type": "code",
      "execution_count": null,
      "id": "d54d1086",
      "metadata": {
        "id": "d54d1086",
        "outputId": "c4113fd9-bed8-41c2-8196-56f5c4ae785a"
      },
      "outputs": [
        {
          "data": {
            "text/plain": [
              "tuple"
            ]
          },
          "execution_count": 18,
          "metadata": {},
          "output_type": "execute_result"
        }
      ],
      "source": [
        "type(a)"
      ]
    },
    {
      "cell_type": "markdown",
      "id": "e5aa0b1e",
      "metadata": {
        "id": "e5aa0b1e"
      },
      "source": [
        "## Простой пример\n",
        "Здесь показано, как осмысленные названия переменных могут сделать ваш код более читаемым."
      ]
    },
    {
      "cell_type": "code",
      "execution_count": null,
      "id": "8137da5f",
      "metadata": {
        "collapsed": true,
        "id": "8137da5f"
      },
      "outputs": [],
      "source": [
        "my_income = 100\n",
        "tax_rate = 0.1\n",
        "my_taxes = my_income * tax_rate"
      ]
    },
    {
      "cell_type": "code",
      "execution_count": null,
      "id": "d9bf487a",
      "metadata": {
        "id": "d9bf487a",
        "outputId": "c9a5638f-80e7-4bd8-9e26-20e18c1daf56"
      },
      "outputs": [
        {
          "data": {
            "text/plain": [
              "10.0"
            ]
          },
          "execution_count": 20,
          "metadata": {},
          "output_type": "execute_result"
        }
      ],
      "source": [
        "my_taxes"
      ]
    },
    {
      "cell_type": "markdown",
      "id": "66fca75d",
      "metadata": {
        "id": "66fca75d",
        "pycharm": {
          "name": "#%% md\n"
        }
      },
      "source": [
        "## 2.5. Типы данных\n",
        "Типы данных, которые есть в python. [официальная документация](https://docs.python.org/3/library/stdtypes.html).\n",
        "\n",
        "1.   Числа (int, float, complex).\n",
        "2.   Строки.\n",
        "3.   Логический тип данных.\n",
        "4.   Переменные\n"
      ]
    },
    {
      "cell_type": "markdown",
      "id": "06ff5bbd",
      "metadata": {
        "id": "06ff5bbd",
        "pycharm": {
          "name": "#%% md\n"
        }
      },
      "source": [
        "## Целые числа\n",
        "Целые числа могут иметь бесконечную длину"
      ]
    },
    {
      "cell_type": "code",
      "execution_count": null,
      "id": "232e996e",
      "metadata": {
        "colab": {
          "base_uri": "https://localhost:8080/"
        },
        "id": "232e996e",
        "outputId": "5aaf88fb-82f2-414b-abb0-dd07d2b09405",
        "pycharm": {
          "name": "#%%\n"
        }
      },
      "outputs": [
        {
          "name": "stdout",
          "output_type": "stream",
          "text": [
            "11111111111111111111111111111111111111111111111111111111111111111111111113\n"
          ]
        }
      ],
      "source": [
        "print(11111111111111111111111111111111111111111111111111111111111111111111111111 + 2)"
      ]
    },
    {
      "cell_type": "markdown",
      "id": "ddf64bd4",
      "metadata": {
        "id": "ddf64bd4",
        "pycharm": {
          "name": "#%% md\n"
        }
      },
      "source": [
        "Python поддерживает несколько систем исчисления\n",
        "1.   Восьмеричную\n",
        "2.   Шестнадцатеричную\n",
        "3.   Двоичную\n",
        "\n",
        "Посмотрите вики [link](https://ru.wikipedia.org/wiki/%D0%A8%D0%B5%D1%81%D1%82%D0%BD%D0%B0%D0%B4%D1%86%D0%B0%D1%82%D0%B5%D1%80%D0%B8%D1%87%D0%BD%D0%B0%D1%8F_%D1%81%D0%B8%D1%81%D1%82%D0%B5%D0%BC%D0%B0_%D1%81%D1%87%D0%B8%D1%81%D0%BB%D0%B5%D0%BD%D0%B8%D1%8F)"
      ]
    },
    {
      "cell_type": "code",
      "execution_count": null,
      "id": "c85c803a",
      "metadata": {
        "colab": {
          "base_uri": "https://localhost:8080/"
        },
        "id": "c85c803a",
        "outputId": "a1cadd53-aee8-4527-aeee-2e28c243d8ab",
        "pycharm": {
          "name": "#%%\n"
        }
      },
      "outputs": [
        {
          "name": "stdout",
          "output_type": "stream",
          "text": [
            "9\n",
            "26\n",
            "2\n"
          ]
        }
      ],
      "source": [
        "print(0o11)  # base = 8\n",
        "print(0x1A)  # base = 16\n",
        "print(0b10)  # base = 2"
      ]
    },
    {
      "cell_type": "code",
      "execution_count": null,
      "id": "487f2d58",
      "metadata": {
        "colab": {
          "base_uri": "https://localhost:8080/"
        },
        "id": "487f2d58",
        "outputId": "25d291ca-37f0-40dc-c8c4-74b46a72568c",
        "pycharm": {
          "name": "#%%\n"
        }
      },
      "outputs": [
        {
          "name": "stdout",
          "output_type": "stream",
          "text": [
            "<class 'int'>\n",
            "<class 'int'>\n"
          ]
        }
      ],
      "source": [
        "# это все тип int, над которым работает арифметика\n",
        "print(type(10))\n",
        "print(type(0o10))"
      ]
    },
    {
      "cell_type": "markdown",
      "id": "b04f6a39",
      "metadata": {
        "id": "b04f6a39",
        "pycharm": {
          "name": "#%% md\n"
        }
      },
      "source": [
        "## Числа с плавающей точкой"
      ]
    },
    {
      "cell_type": "code",
      "execution_count": null,
      "id": "8f0a211c",
      "metadata": {
        "colab": {
          "base_uri": "https://localhost:8080/"
        },
        "id": "8f0a211c",
        "outputId": "313fc3f5-05ec-4928-8155-76926c2b20c1",
        "pycharm": {
          "name": "#%%\n"
        }
      },
      "outputs": [
        {
          "name": "stdout",
          "output_type": "stream",
          "text": [
            "4.2\n",
            "<class 'float'>\n",
            "4.0\n",
            "0.2\n",
            "4000000.0\n",
            "<class 'float'>\n",
            "4000.0\n",
            "True\n",
            "2.2e-05\n"
          ]
        }
      ],
      "source": [
        "print(4.2)\n",
        "print(type(4.2))\n",
        "print(4.)\n",
        "print(.2)\n",
        "print(.4e7)\n",
        "print(type(.4e7))\n",
        "print(4e+3)\n",
        "print(2.2e-5 == 0.000022)\n",
        "print(0.000022)"
      ]
    },
    {
      "cell_type": "code",
      "execution_count": null,
      "id": "8666579d",
      "metadata": {
        "colab": {
          "base_uri": "https://localhost:8080/"
        },
        "id": "8666579d",
        "outputId": "8acaa3be-92c8-493a-fd3c-8e8db7cdca28",
        "pycharm": {
          "name": "#%%\n"
        }
      },
      "outputs": [
        {
          "name": "stdout",
          "output_type": "stream",
          "text": [
            "1.79e+308\n",
            "inf\n",
            "5e-324\n",
            "0.0\n"
          ]
        }
      ],
      "source": [
        "# У вещественных чисел существует ограничение\n",
        "\n",
        "# бесконечность\n",
        "print(1.79e308)\n",
        "print(1.8e308)\n",
        "# ближайшее к нулю\n",
        "print(5e-324)\n",
        "print(1e-325)"
      ]
    },
    {
      "cell_type": "code",
      "execution_count": null,
      "id": "62beeaf8",
      "metadata": {
        "colab": {
          "base_uri": "https://localhost:8080/"
        },
        "id": "62beeaf8",
        "outputId": "6b68b902-628e-4412-cc0b-7e069cc2c7ce",
        "pycharm": {
          "name": "#%%\n"
        }
      },
      "outputs": [
        {
          "name": "stdout",
          "output_type": "stream",
          "text": [
            "-inf\n",
            "True\n",
            "False\n"
          ]
        }
      ],
      "source": [
        "# есть также константа inf, удобная для определения бесконечных\n",
        "print(-float(\"inf\"))\n",
        "print(float(\"inf\") > 10e300)\n",
        "print(float(\"inf\") > 10e400)"
      ]
    },
    {
      "cell_type": "code",
      "execution_count": null,
      "id": "76097f16",
      "metadata": {
        "pycharm": {
          "name": "#%%\n"
        },
        "id": "76097f16",
        "outputId": "ab726450-eebe-49a3-cb18-887dcc2f3c32"
      },
      "outputs": [
        {
          "data": {
            "text/plain": [
              "True"
            ]
          },
          "execution_count": 77,
          "metadata": {},
          "output_type": "execute_result"
        }
      ],
      "source": [
        "(1.1 + 2.2) - 3.3 < 0.1"
      ]
    },
    {
      "cell_type": "markdown",
      "id": "e28f3c82",
      "metadata": {
        "id": "e28f3c82",
        "pycharm": {
          "name": "#%% md\n"
        }
      },
      "source": [
        "## Общие операции для разных численных типов данных\n",
        "\n",
        "<table class=\"docutils align-default\">\n",
        "<colgroup>\n",
        "<col style=\"width: 25%\">\n",
        "<col style=\"width: 40%\">\n",
        "<col style=\"width: 11%\">\n",
        "<col style=\"width: 24%\">\n",
        "</colgroup>\n",
        "<thead>\n",
        "<tr class=\"row-odd\"><th class=\"head\"><p>Operation</p></th>\n",
        "<th class=\"head\"><p>Result</p></th>\n",
        "<th class=\"head\"><p>Notes</p></th>\n",
        "<th class=\"head\"><p>Full documentation</p></th>\n",
        "</tr>\n",
        "</thead>\n",
        "<tbody>\n",
        "<tr class=\"row-even\"><td><p><code class=\"docutils literal notranslate\"><span class=\"pre\">x</span> <span class=\"pre\">+</span> <span class=\"pre\">y</span></code></p></td>\n",
        "<td><p>sum of <em>x</em> and <em>y</em></p></td>\n",
        "<td></td>\n",
        "<td></td>\n",
        "</tr>\n",
        "<tr class=\"row-odd\"><td><p><code class=\"docutils literal notranslate\"><span class=\"pre\">x</span> <span class=\"pre\">-</span> <span class=\"pre\">y</span></code></p></td>\n",
        "<td><p>difference of <em>x</em> and <em>y</em></p></td>\n",
        "<td></td>\n",
        "<td></td>\n",
        "</tr>\n",
        "<tr class=\"row-even\"><td><p><code class=\"docutils literal notranslate\"><span class=\"pre\">x</span> <span class=\"pre\">*</span> <span class=\"pre\">y</span></code></p></td>\n",
        "<td><p>product of <em>x</em> and <em>y</em></p></td>\n",
        "<td></td>\n",
        "<td></td>\n",
        "</tr>\n",
        "<tr class=\"row-odd\"><td><p><code class=\"docutils literal notranslate\"><span class=\"pre\">x</span> <span class=\"pre\">/</span> <span class=\"pre\">y</span></code></p></td>\n",
        "<td><p>quotient of <em>x</em> and <em>y</em></p></td>\n",
        "<td></td>\n",
        "<td></td>\n",
        "</tr>\n",
        "<tr class=\"row-even\"><td><p><code class=\"docutils literal notranslate\"><span class=\"pre\">x</span> <span class=\"pre\">//</span> <span class=\"pre\">y</span></code></p></td>\n",
        "<td><p>floored quotient of <em>x</em> and\n",
        "<em>y</em></p></td>\n",
        "<td><p></p></td>\n",
        "<td></td>\n",
        "</tr>\n",
        "<tr class=\"row-odd\"><td><p><code class=\"docutils literal notranslate\"><span class=\"pre\">x</span> <span class=\"pre\">%</span> <span class=\"pre\">y</span></code></p></td>\n",
        "<td><p>remainder of <code class=\"docutils literal notranslate\"><span class=\"pre\">x</span> <span class=\"pre\">/</span> <span class=\"pre\">y</span></code></p></td>\n",
        "<td><p></p></td>\n",
        "<td></td>\n",
        "</tr>\n",
        "<tr class=\"row-even\"><td><p><code class=\"docutils literal notranslate\"><span class=\"pre\">-x</span></code></p></td>\n",
        "<td><p><em>x</em> negated</p></td>\n",
        "<td></td>\n",
        "<td></td>\n",
        "</tr>\n",
        "<tr class=\"row-odd\"><td><p><code class=\"docutils literal notranslate\"><span class=\"pre\">+x</span></code></p></td>\n",
        "<td><p><em>x</em> unchanged</p></td>\n",
        "<td></td>\n",
        "<td></td>\n",
        "</tr>\n",
        "<tr class=\"row-even\"><td><p><code class=\"docutils literal notranslate\"><span class=\"pre\">abs(x)</span></code></p></td>\n",
        "<td><p>absolute value or magnitude of\n",
        "<em>x</em></p></td>\n",
        "<td></td>\n",
        "<td><p><a class=\"reference internal\" href=\"functions.html#abs\" title=\"abs\"><code class=\"xref py py-func docutils literal notranslate\"><span class=\"pre\">abs()</span></code></a></p></td>\n",
        "</tr>\n",
        "<tr class=\"row-odd\"><td><p><code class=\"docutils literal notranslate\"><span class=\"pre\">int(x)</span></code></p></td>\n",
        "<td><p><em>x</em> converted to integer</p></td>\n",
        "<td><p></p></td>\n",
        "<td><p><a class=\"reference internal\" href=\"functions.html#int\" title=\"int\"><code class=\"xref py py-func docutils literal notranslate\"><span class=\"pre\">int()</span></code></a></p></td>\n",
        "</tr>\n",
        "<tr class=\"row-even\"><td><p><code class=\"docutils literal notranslate\"><span class=\"pre\">float(x)</span></code></p></td>\n",
        "<td><p><em>x</em> converted to floating point</p></td>\n",
        "<td><p></p></td>\n",
        "<td><p><a class=\"reference internal\" href=\"functions.html#float\" title=\"float\"><code class=\"xref py py-func docutils literal notranslate\"><span class=\"pre\">float()</span></code></a></p></td>\n",
        "</tr>\n",
        "<tr class=\"row-even\"><td><p><code class=\"docutils literal notranslate\"><span class=\"pre\">pow(x,</span> <span class=\"pre\">y)</span></code></p></td>\n",
        "<td><p><em>x</em> to the power <em>y</em></p></td>\n",
        "<td><p></p></td>\n",
        "<td><p><a class=\"reference internal\" href=\"functions.html#pow\" title=\"pow\"><code class=\"xref py py-func docutils literal notranslate\"><span class=\"pre\">pow()</span></code></a></p></td>\n",
        "</tr>\n",
        "<tr class=\"row-odd\"><td><p><code class=\"docutils literal notranslate\"><span class=\"pre\">x</span> <span class=\"pre\">**</span> <span class=\"pre\">y</span></code></p></td>\n",
        "<td><p><em>x</em> to the power <em>y</em></p></td>\n",
        "<td><p></p></td>\n",
        "<td></td>\n",
        "</tr>\n",
        "</tbody>\n",
        "</table>"
      ]
    },
    {
      "cell_type": "code",
      "execution_count": null,
      "id": "13c81f9f",
      "metadata": {
        "id": "13c81f9f",
        "pycharm": {
          "name": "#%%\n"
        }
      },
      "outputs": [],
      "source": [
        "# Для чисел 94 и 43 примените здесь все эти операции"
      ]
    },
    {
      "cell_type": "markdown",
      "id": "6e2609dc",
      "metadata": {
        "id": "6e2609dc",
        "pycharm": {
          "name": "#%% md\n"
        }
      },
      "source": [
        "## Строки\n",
        "\n",
        "Преобразовать элемент в строку можно с помощью функции `str`"
      ]
    },
    {
      "cell_type": "code",
      "execution_count": 1,
      "id": "04d7323b",
      "metadata": {
        "colab": {
          "base_uri": "https://localhost:8080/"
        },
        "id": "04d7323b",
        "outputId": "210f3c0d-006b-4e46-aaaf-a96a87be369f",
        "pycharm": {
          "name": "#%%\n"
        }
      },
      "outputs": [
        {
          "output_type": "stream",
          "name": "stdout",
          "text": [
            "Hello\n",
            "Hello\n",
            "True\n",
            "<class 'str'>\n"
          ]
        }
      ],
      "source": [
        "print('Hello')\n",
        "print(\"Hello\")\n",
        "print(\"Hello\" == 'Hello')\n",
        "print(type('Hello'))"
      ]
    },
    {
      "cell_type": "code",
      "execution_count": 2,
      "id": "287750d3",
      "metadata": {
        "colab": {
          "base_uri": "https://localhost:8080/"
        },
        "id": "287750d3",
        "outputId": "8c16357d-b1a5-424f-b5c2-93f50fd5e119",
        "pycharm": {
          "name": "#%%\n"
        }
      },
      "outputs": [
        {
          "output_type": "stream",
          "name": "stdout",
          "text": [
            "\n"
          ]
        }
      ],
      "source": [
        "# строка может содержать бесконечное количество символов\n",
        "\n",
        "print('')"
      ]
    },
    {
      "cell_type": "code",
      "execution_count": null,
      "id": "2018c733",
      "metadata": {
        "colab": {
          "base_uri": "https://localhost:8080/",
          "height": 130
        },
        "id": "2018c733",
        "outputId": "bd3ce26f-a80e-44fc-8e2a-6dec0e28fd25",
        "pycharm": {
          "name": "#%%\n"
        }
      },
      "outputs": [
        {
          "ename": "SyntaxError",
          "evalue": "invalid syntax (1942883180.py, line 1)",
          "output_type": "error",
          "traceback": [
            "\u001b[1;36m  File \u001b[1;32m\"C:\\Users\\user\\AppData\\Local\\Temp\\ipykernel_4764\\1942883180.py\"\u001b[1;36m, line \u001b[1;32m1\u001b[0m\n\u001b[1;33m    print('Masha's apple')\u001b[0m\n\u001b[1;37m                 ^\u001b[0m\n\u001b[1;31mSyntaxError\u001b[0m\u001b[1;31m:\u001b[0m invalid syntax\n"
          ]
        }
      ],
      "source": [
        "print('Masha's apple')"
      ]
    },
    {
      "cell_type": "code",
      "execution_count": null,
      "id": "eb2fd72c",
      "metadata": {
        "colab": {
          "base_uri": "https://localhost:8080/"
        },
        "id": "eb2fd72c",
        "outputId": "a10fc26d-2d34-43af-a790-710d59c66dcb",
        "pycharm": {
          "name": "#%%\n"
        }
      },
      "outputs": [
        {
          "name": "stdout",
          "output_type": "stream",
          "text": [
            "Masha's apple\n",
            "Masha's apple\n"
          ]
        }
      ],
      "source": [
        "print(\"Masha's apple\")\n",
        "print('Masha\\'s apple')"
      ]
    },
    {
      "cell_type": "markdown",
      "id": "88349256",
      "metadata": {
        "id": "88349256",
        "pycharm": {
          "name": "#%% md\n"
        }
      },
      "source": [
        "<table class=\"table table-hover\">\n",
        "<thead>\n",
        "<tr>\n",
        "<th>Символы<br>Экранирования</th>\n",
        "<th>Usual Interpretation of<br>Character(s) After Backslash</th>\n",
        "<th>“Escaped” Interpretation</th>\n",
        "</tr>\n",
        "</thead>\n",
        "<tbody>\n",
        "<tr>\n",
        "<td><code>\\'</code></td>\n",
        "<td>Terminates string with single quote opening delimiter</td>\n",
        "<td>Literal single quote (<code>'</code>) character</td>\n",
        "</tr>\n",
        "<tr>\n",
        "<td><code>\\\"</code></td>\n",
        "<td>Terminates string with double quote opening delimiter</td>\n",
        "<td>Literal double quote (<code>\"</code>) character</td>\n",
        "</tr>\n",
        "<tr>\n",
        "<td><code>\\&lt;newline&gt;</code></td>\n",
        "<td>Terminates input line</td>\n",
        "<td><a href=\"https://stackoverflow.com/questions/48693600/what-does-the-newline-escape-sequence-mean-in-python\">Newline is ignored</a></td>\n",
        "</tr>\n",
        "<tr>\n",
        "<td><code>\\\\</code></td>\n",
        "<td>Introduces escape sequence</td>\n",
        "<td>Literal backslash (<code>\\</code>) character</td>\n",
        "</tr>\n",
        "</tbody>\n",
        "</table>"
      ]
    },
    {
      "cell_type": "code",
      "execution_count": null,
      "id": "8be4db3b",
      "metadata": {
        "colab": {
          "base_uri": "https://localhost:8080/"
        },
        "id": "8be4db3b",
        "outputId": "cbb11f6e-3bad-42e1-93a2-d0d4e6d1f45f",
        "pycharm": {
          "name": "#%%\n"
        }
      },
      "outputs": [
        {
          "name": "stdout",
          "output_type": "stream",
          "text": [
            "1---2---31 2 3\n"
          ]
        }
      ],
      "source": [
        "print(1, 2, 3, end='', sep=\"---\")\n",
        "print(1, 2, 3)"
      ]
    },
    {
      "cell_type": "markdown",
      "id": "71548a45",
      "metadata": {
        "id": "71548a45",
        "pycharm": {
          "name": "#%% md\n"
        }
      },
      "source": [
        "## Логический тип данных\n",
        "\n",
        "Важно отметить, что у всех объектов в питоне есть логическое значение. Т.е. он может быть протестирован на истинность. По умолчанию все объекты являются истинными (True), если только не определены специальные методы.\n",
        "\n",
        "```\n",
        ">>>bool(10)\n",
        "True\n",
        ">>>bool(-10)\n",
        "True\n",
        ">>>bool('Hello')\n",
        "True\n",
        ">>>bool('')\n",
        "False\n",
        "```\n"
      ]
    },
    {
      "cell_type": "code",
      "execution_count": null,
      "id": "c10d7d7c",
      "metadata": {
        "pycharm": {
          "name": "#%%\n"
        },
        "id": "c10d7d7c"
      },
      "outputs": [],
      "source": [
        "None"
      ]
    },
    {
      "cell_type": "code",
      "execution_count": null,
      "id": "85234b2c",
      "metadata": {
        "colab": {
          "base_uri": "https://localhost:8080/"
        },
        "id": "85234b2c",
        "outputId": "6d111917-4272-48f3-da50-d99cc7f781c8",
        "pycharm": {
          "name": "#%%\n"
        }
      },
      "outputs": [
        {
          "data": {
            "text/plain": [
              "False"
            ]
          },
          "execution_count": 123,
          "metadata": {},
          "output_type": "execute_result"
        }
      ],
      "source": [
        "bool(None)"
      ]
    },
    {
      "cell_type": "code",
      "execution_count": null,
      "id": "49d218ef",
      "metadata": {
        "id": "49d218ef",
        "pycharm": {
          "name": "#%%\n"
        }
      },
      "outputs": [],
      "source": [
        "True\n",
        "False"
      ]
    },
    {
      "cell_type": "code",
      "execution_count": null,
      "id": "38a05557",
      "metadata": {
        "colab": {
          "base_uri": "https://localhost:8080/"
        },
        "id": "38a05557",
        "outputId": "84da7aed-3c04-4c4d-d438-1dc0d7a9fcd9",
        "pycharm": {
          "name": "#%%\n"
        }
      },
      "outputs": [
        {
          "name": "stdout",
          "output_type": "stream",
          "text": [
            "False\n",
            "False\n"
          ]
        }
      ],
      "source": [
        "print(bool(0))\n",
        "print(bool(''))"
      ]
    },
    {
      "cell_type": "markdown",
      "id": "807151ab",
      "metadata": {
        "id": "807151ab",
        "pycharm": {
          "name": "#%% md\n"
        }
      },
      "source": [
        "Булевы операторы\n",
        "\n",
        "<table class=\"docutils align-default\">\n",
        "<colgroup>\n",
        "<col style=\"width: 25%\">\n",
        "<col style=\"width: 62%\">\n",
        "<col style=\"width: 13%\">\n",
        "</colgroup>\n",
        "<thead>\n",
        "<tr class=\"row-odd\"><th class=\"head\"><p>Operation</p></th>\n",
        "<th class=\"head\"><p>Result</p></th>\n",
        "<th class=\"head\"><p>Notes</p></th>\n",
        "</tr>\n",
        "</thead>\n",
        "<tbody>\n",
        "<tr class=\"row-even\"><td><p><code class=\"docutils literal notranslate\"><span class=\"pre\">x</span> <span class=\"pre\">or</span> <span class=\"pre\">y</span></code></p></td>\n",
        "<td><p>if <em>x</em> is false, then <em>y</em>, else\n",
        "<em>x</em></p></td>\n",
        "<td><p>(1)</p></td>\n",
        "</tr>\n",
        "<tr class=\"row-odd\"><td><p><code class=\"docutils literal notranslate\"><span class=\"pre\">x</span> <span class=\"pre\">and</span> <span class=\"pre\">y</span></code></p></td>\n",
        "<td><p>if <em>x</em> is false, then <em>x</em>, else\n",
        "<em>y</em></p></td>\n",
        "<td><p>(2)</p></td>\n",
        "</tr>\n",
        "<tr class=\"row-even\"><td><p><code class=\"docutils literal notranslate\"><span class=\"pre\">not</span> <span class=\"pre\">x</span></code></p></td>\n",
        "<td><p>if <em>x</em> is false, then <code class=\"docutils literal notranslate\"><span class=\"pre\">True</span></code>,\n",
        "else <code class=\"docutils literal notranslate\"><span class=\"pre\">False</span></code></p></td>\n",
        "<td><p>(3)</p></td>\n",
        "</tr>\n",
        "</tbody>\n",
        "</table>"
      ]
    },
    {
      "cell_type": "code",
      "execution_count": null,
      "id": "04f00169",
      "metadata": {
        "pycharm": {
          "name": "#%%\n"
        },
        "id": "04f00169",
        "outputId": "34e92aae-7872-4b93-ad96-beac75b11c2b"
      },
      "outputs": [
        {
          "name": "stdout",
          "output_type": "stream",
          "text": [
            "0\n",
            "1\n",
            "True\n",
            "True\n"
          ]
        }
      ],
      "source": [
        "print(int(False or False))\n",
        "print(int(False or True))\n",
        "print(True or False)\n",
        "print(True or True)"
      ]
    },
    {
      "cell_type": "code",
      "execution_count": null,
      "id": "261617d3",
      "metadata": {
        "pycharm": {
          "name": "#%%\n"
        },
        "id": "261617d3",
        "outputId": "c8653e5f-30a4-4a74-d659-7fb1e2dd7cf4"
      },
      "outputs": [
        {
          "data": {
            "text/plain": [
              "(True, False)"
            ]
          },
          "execution_count": 131,
          "metadata": {},
          "output_type": "execute_result"
        }
      ],
      "source": [
        "bool(10), bool(None)"
      ]
    },
    {
      "cell_type": "code",
      "execution_count": null,
      "id": "5efdeb20",
      "metadata": {
        "pycharm": {
          "name": "#%%\n"
        },
        "id": "5efdeb20",
        "outputId": "cea2ea30-1015-45f8-8812-59a86bfd2970"
      },
      "outputs": [
        {
          "data": {
            "text/plain": [
              "10"
            ]
          },
          "execution_count": 133,
          "metadata": {},
          "output_type": "execute_result"
        }
      ],
      "source": [
        "10 or None"
      ]
    },
    {
      "cell_type": "code",
      "execution_count": null,
      "id": "bb34b006",
      "metadata": {
        "colab": {
          "base_uri": "https://localhost:8080/",
          "height": 35
        },
        "id": "bb34b006",
        "outputId": "8159ce9a-cad4-45db-949f-5fb833516e28",
        "pycharm": {
          "name": "#%%\n"
        }
      },
      "outputs": [
        {
          "data": {
            "text/plain": [
              "'asc'"
            ]
          },
          "execution_count": 134,
          "metadata": {},
          "output_type": "execute_result"
        }
      ],
      "source": [
        "'asd' and 'asc'"
      ]
    },
    {
      "cell_type": "markdown",
      "id": "17816b31",
      "metadata": {
        "id": "17816b31",
        "pycharm": {
          "name": "#%% md\n"
        }
      },
      "source": [
        "Операторы сравнения\n",
        "\n",
        "<table class=\"docutils align-default\">\n",
        "<colgroup>\n",
        "<col style=\"width: 32%\">\n",
        "<col style=\"width: 68%\">\n",
        "</colgroup>\n",
        "<thead>\n",
        "<tr class=\"row-odd\"><th class=\"head\"><p>Operation</p></th>\n",
        "<th class=\"head\"><p>Meaning</p></th>\n",
        "</tr>\n",
        "</thead>\n",
        "<tbody>\n",
        "<tr class=\"row-even\"><td><p><code class=\"docutils literal notranslate\"><span class=\"pre\">&lt;</span></code></p></td>\n",
        "<td><p>strictly less than</p></td>\n",
        "</tr>\n",
        "<tr class=\"row-odd\"><td><p><code class=\"docutils literal notranslate\"><span class=\"pre\">&lt;=</span></code></p></td>\n",
        "<td><p>less than or equal</p></td>\n",
        "</tr>\n",
        "<tr class=\"row-even\"><td><p><code class=\"docutils literal notranslate\"><span class=\"pre\">&gt;</span></code></p></td>\n",
        "<td><p>strictly greater than</p></td>\n",
        "</tr>\n",
        "<tr class=\"row-odd\"><td><p><code class=\"docutils literal notranslate\"><span class=\"pre\">&gt;=</span></code></p></td>\n",
        "<td><p>greater than or equal</p></td>\n",
        "</tr>\n",
        "<tr class=\"row-even\"><td><p><code class=\"docutils literal notranslate\"><span class=\"pre\">==</span></code></p></td>\n",
        "<td><p>equal</p></td>\n",
        "</tr>\n",
        "<tr class=\"row-odd\"><td><p><code class=\"docutils literal notranslate\"><span class=\"pre\">!=</span></code></p></td>\n",
        "<td><p>not equal</p></td>\n",
        "</tr>\n",
        "<tr class=\"row-even\"><td><p><code class=\"docutils literal notranslate\"><span class=\"pre\">is</span></code></p></td>\n",
        "<td><p>object identity</p></td>\n",
        "</tr>\n",
        "<tr class=\"row-odd\"><td><p><code class=\"docutils literal notranslate\"><span class=\"pre\">is</span> <span class=\"pre\">not</span></code></p></td>\n",
        "<td><p>negated object identity</p></td>\n",
        "</tr>\n",
        "</tbody>\n",
        "</table>"
      ]
    },
    {
      "cell_type": "code",
      "execution_count": null,
      "id": "ad54c3c1",
      "metadata": {
        "pycharm": {
          "name": "#%%\n"
        },
        "id": "ad54c3c1",
        "outputId": "056bcdde-ffd2-410d-9ab2-8f2eec3b6a31"
      },
      "outputs": [
        {
          "data": {
            "text/plain": [
              "True"
            ]
          },
          "execution_count": 135,
          "metadata": {},
          "output_type": "execute_result"
        }
      ],
      "source": [
        "10 < 15"
      ]
    },
    {
      "cell_type": "code",
      "execution_count": null,
      "id": "22cc287c",
      "metadata": {
        "id": "22cc287c",
        "pycharm": {
          "name": "#%%\n"
        }
      },
      "outputs": [],
      "source": [
        "1 == 1"
      ]
    },
    {
      "cell_type": "code",
      "execution_count": null,
      "id": "a4f35762",
      "metadata": {
        "id": "a4f35762",
        "pycharm": {
          "name": "#%%\n"
        }
      },
      "outputs": [],
      "source": [
        "1 is not 'abc'"
      ]
    },
    {
      "cell_type": "code",
      "execution_count": null,
      "id": "9c2c2371",
      "metadata": {
        "id": "9c2c2371",
        "pycharm": {
          "name": "#%%\n"
        }
      },
      "outputs": [],
      "source": [
        "1 or 1"
      ]
    },
    {
      "cell_type": "markdown",
      "id": "3efe4a65",
      "metadata": {
        "id": "3efe4a65",
        "pycharm": {
          "name": "#%% md\n"
        }
      },
      "source": [
        "# Задание 1\n",
        "\n",
        "Создайте две переменные var_a и var_b. var_a присвойте числовое значение равное длю своего рождения, var_b присвойте значение равное номерну месяца своего значения.\n",
        "Для переменных var_a и var_b выполните все арифметические и логические операции приведенные выше.\n",
        "\n",
        "Пример:\n",
        "\n",
        "```\n",
        "\n",
        "a = 7\n",
        "b = 2\n",
        "\n",
        "print ('Sum: ', a + b)  \n",
        "print ('Subtraction: ', a - b)   \n",
        "print ('Multiplication: ', a * b)  \n",
        "print ('Division: ', a / b)\n",
        "print ('Floor Division: ', a // b)\n",
        "print ('Modulo: ', a % b)  \n",
        "print ('Power: ', a ** b)\n",
        "\n",
        "print((a > 2) and (b >= 6))    # True\n",
        "\n",
        "x = 5\n",
        "y = 8\n",
        "\n",
        "print(\"x == y:\", x == y)\n",
        "print(\"x != y:\", x != y)\n",
        "print(\"x < y:\", x < y)\n",
        "print(\"x > y:\", x > y)\n",
        "print(\"x <= y:\", x <= y)\n",
        "print(\"x >= y:\", x >= y)\n",
        "```"
      ]
    },
    {
      "cell_type": "code",
      "execution_count": 3,
      "id": "239e8c83",
      "metadata": {
        "colab": {
          "base_uri": "https://localhost:8080/"
        },
        "id": "239e8c83",
        "outputId": "0d425d26-21ad-4d2b-a6dd-e401dfeb9dea"
      },
      "outputs": [
        {
          "output_type": "stream",
          "name": "stdout",
          "text": [
            "14\n",
            "6\n",
            "40\n",
            "2.5\n",
            "2\n",
            "2\n",
            "10000\n",
            "False\n",
            "True\n",
            "True\n",
            "False\n",
            "True\n",
            "False\n"
          ]
        }
      ],
      "source": [
        "var_a = 10\n",
        "var_b = 4\n",
        "\n",
        "sum_result = var_a + var_b\n",
        "sub_result = var_a - var_b\n",
        "mul_result = var_a * var_b\n",
        "div_result = var_a / var_b\n",
        "mod_result = var_a % var_b\n",
        "floor_div_result = var_a // var_b\n",
        "exp_result = var_a ** var_b\n",
        "\n",
        "is_equal = var_a == var_b\n",
        "is_not_equal = var_a != var_b\n",
        "is_greater = var_a > var_b\n",
        "is_less = var_a < var_b\n",
        "is_greater_or_equal = var_a >= var_b\n",
        "is_less_or_equal = var_a <= var_b\n",
        "\n",
        "print( sum_result)\n",
        "print(sub_result)\n",
        "print(mul_result)\n",
        "print(div_result)\n",
        "print(mod_result)\n",
        "print(floor_div_result)\n",
        "print(exp_result)\n",
        "\n",
        "print(is_equal)\n",
        "print(is_not_equal)\n",
        "print(is_greater)\n",
        "print(is_less)\n",
        "print(is_greater_or_equal)\n",
        "print(is_less_or_equal)\n"
      ]
    },
    {
      "cell_type": "markdown",
      "id": "a3ad7361",
      "metadata": {
        "id": "a3ad7361"
      },
      "source": [
        "# Задание 2\n",
        "\n",
        "Присвойте переменной var_c значение 32.98.\n",
        "\n",
        "Преобразуйте переменную к типам int, float, string и выведите результат на экран. Объясните что получилось в результате преобразования.\n"
      ]
    },
    {
      "cell_type": "code",
      "execution_count": 8,
      "id": "9dd12dae",
      "metadata": {
        "colab": {
          "base_uri": "https://localhost:8080/"
        },
        "id": "9dd12dae",
        "outputId": "38a1a26e-07f1-4ac7-a94c-6a870047608d"
      },
      "outputs": [
        {
          "output_type": "stream",
          "name": "stdout",
          "text": [
            "32\n",
            "32.98\n",
            "32.98\n"
          ]
        }
      ],
      "source": [
        "var_c = 32.98\n",
        "\n",
        "var_c_int = int(var_c)        # Преобразование в целое число\n",
        "var_c_float = float(var_c)    # Преобразование в число с плавающей точкой\n",
        "var_c_string = str(var_c)     # Преобразование в строку\n",
        "\n",
        "print(var_c_int) # При преобразовании числа с плавающей точкой (32.98) в целое число (int) дробная часть отбрасывается, и результатом будет 32\n",
        "print(var_c_float) # Поскольку var_c уже является числом с плавающей точкой, преобразование не изменяет значение, и результатом будет 32.98.\n",
        "print(var_c_string) # Значение 32.98 преобразуется в строку '32.98', что позволяет использовать его как текст."
      ]
    },
    {
      "cell_type": "markdown",
      "id": "79fd6eb3",
      "metadata": {
        "id": "79fd6eb3"
      },
      "source": [
        "# Задание 3\n",
        "\n",
        "1. Дано целое число A. Проверить истинность высказывания: «Число A является положительным».\n",
        "1. Дано целое число A. Проверить истинность высказывания: «Число A является нечетным».\n",
        "3. Дано целое число A. Проверить истинность высказывания: «Число A является четным».\n",
        "4. Даны два целых числа: A, B. Проверить истинность высказывания: «Справедливы неравенства A > 2 и B ≤ 3».\n",
        "5. Даны два целых числа: A, B. Проверить истинность высказывания: «Справедливы неравенства A ≥ 0 или B < –2».\n",
        "6. Даны три целых числа: A, B, C. Проверить истинность высказыва-ния: «Справедливо двойное неравенство A < B < C».\n",
        "7. Даны три целых числа: A, B, C. Проверить истинность высказыва-ния: «Число B находится между числами A и C».\n",
        "\n",
        "Пример решения п. 1\n",
        "\n",
        "```\n",
        "A=-3\n",
        "print(\"Число\",A,\"является положительным\", A>0)\n",
        "```"
      ]
    },
    {
      "cell_type": "code",
      "execution_count": 12,
      "id": "35a8c53e",
      "metadata": {
        "colab": {
          "base_uri": "https://localhost:8080/"
        },
        "id": "35a8c53e",
        "outputId": "077cca0f-9f57-4259-c1aa-d6a24ddb9812"
      },
      "outputs": [
        {
          "output_type": "stream",
          "name": "stdout",
          "text": [
            "Число A является нечетным: True\n",
            "Число A является четным: False\n",
            "Справедливы неравенства A > 2 и B ≤ 3: False\n",
            "Справедливы неравенства A ≥ 0 или B < –2: False\n",
            "Справедливо двойное неравенство A < B < C: True\n",
            "Число B находится между числами A и C: True\n"
          ]
        }
      ],
      "source": [
        "A=-3\n",
        "B=4\n",
        "C=5\n",
        "\n",
        "is_odd = A % 2 != 0\n",
        "print(f\"Число A является нечетным: {is_odd}\")\n",
        "\n",
        "is_even = A % 2 == 0\n",
        "print(f\"Число A является четным: {is_even}\")\n",
        "\n",
        "inequality_1 = A > 2 and B <= 3\n",
        "print(f\"Справедливы неравенства A > 2 и B ≤ 3: {inequality_1}\")\n",
        "\n",
        "inequality_2 = A >= 0 or B < -2\n",
        "print(f\"Справедливы неравенства A ≥ 0 или B < –2: {inequality_2}\")\n",
        "\n",
        "double_inequality = A < B < C\n",
        "print(f\"Справедливо двойное неравенство A < B < C: {double_inequality}\")\n",
        "\n",
        "is_between = (A < B < C) or (C < B < A)\n",
        "print(f\"Число B находится между числами A и C: {is_between}\")"
      ]
    },
    {
      "cell_type": "code",
      "source": [],
      "metadata": {
        "id": "TRgWUA7SA7KV"
      },
      "id": "TRgWUA7SA7KV",
      "execution_count": null,
      "outputs": []
    }
  ],
  "metadata": {
    "kernelspec": {
      "display_name": "Python 3 (ipykernel)",
      "language": "python",
      "name": "python3"
    },
    "language_info": {
      "codemirror_mode": {
        "name": "ipython",
        "version": 3
      },
      "file_extension": ".py",
      "mimetype": "text/x-python",
      "name": "python",
      "nbconvert_exporter": "python",
      "pygments_lexer": "ipython3",
      "version": "3.9.13"
    },
    "colab": {
      "provenance": []
    }
  },
  "nbformat": 4,
  "nbformat_minor": 5
}