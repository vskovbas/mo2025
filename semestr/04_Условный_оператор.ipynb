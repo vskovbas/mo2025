{
  "cells": [
    {
      "cell_type": "markdown",
      "id": "66ba490c",
      "metadata": {
        "id": "66ba490c"
      },
      "source": [
        "# Операторы if, elif, else\n",
        "\n",
        "Операторы <code>if</code> в Python позволяют компьютеру выполнять разные действия в зависимости от условий.\n",
        "\n",
        "Представьте, что мы говорим компьютеру:\n",
        "\n",
        "\"Если случится вот это, то выполни такое-то действие\"\n",
        "\n",
        "Мы также можем развить эту идею с помощью операторов <code>elif</code> и <code>else</code>, которые позволяют нам сказать компьютеру следующее:\n",
        "\n",
        "\"Если выполняется такое-то условие, то выполни такое-то действие. Иначе, если выполняется другое условие, то выполни другое действие. Иначе, если *никакие* из условий выше не выполнены, то выполни третье действие.\"\n",
        "\n",
        "Давайте посмотрим на синтаксис оператора <code>if</code>, чтобы увидеть это в действии:\n",
        "\n",
        "    if условие1:\n",
        "        выполнить действие1\n",
        "    elif условие2:\n",
        "        выполнить действие2\n",
        "    else:\n",
        "        выполнить действие3"
      ]
    },
    {
      "cell_type": "markdown",
      "id": "23212da7",
      "metadata": {
        "id": "23212da7"
      },
      "source": [
        "## Первый пример\n",
        "\n",
        "Рассмотрим пример:"
      ]
    },
    {
      "cell_type": "code",
      "execution_count": null,
      "id": "25254a7d",
      "metadata": {
        "scrolled": true,
        "id": "25254a7d",
        "outputId": "2c19cd19-0366-4b92-9809-d40619dcbc21"
      },
      "outputs": [
        {
          "name": "stdout",
          "output_type": "stream",
          "text": [
            "It was true!\n"
          ]
        }
      ],
      "source": [
        "if True:\n",
        "    print('It was true!')"
      ]
    },
    {
      "cell_type": "markdown",
      "id": "411caf8e",
      "metadata": {
        "id": "411caf8e"
      },
      "source": [
        "Добавим else:"
      ]
    },
    {
      "cell_type": "code",
      "execution_count": null,
      "id": "a70b25a9",
      "metadata": {
        "id": "a70b25a9",
        "outputId": "9d1d6005-a44e-4e0c-a381-adb3014363e1"
      },
      "outputs": [
        {
          "name": "stdout",
          "output_type": "stream",
          "text": [
            "Это предложение будет напечатано во всех случаях, когда x не равен true\n"
          ]
        }
      ],
      "source": [
        "x = False\n",
        "\n",
        "if x:\n",
        "    print('x равен True!')\n",
        "else:\n",
        "    print('Это предложение будет напечатано во всех случаях, когда x не равен true')"
      ]
    },
    {
      "cell_type": "markdown",
      "id": "045ac6b8",
      "metadata": {
        "id": "045ac6b8"
      },
      "source": [
        "### Несколько условий\n",
        "\n",
        "Посмотрим более полную картину для операторов <code>if</code>, <code>elif</code>, и <code>else</code>!\n",
        "\n",
        "Мы напишем это в виде вложенной структуры. Обратите внимание, как в этом коде расположены <code>if</code>, <code>elif</code> и <code>else</code>. Это позволяет увидеть, какой <code>if</code> относится к какому <code>elif</code> или <code>else</code>.\n",
        "\n",
        "Также мы вспомним синтаксис сравнения значений в Python."
      ]
    },
    {
      "cell_type": "code",
      "execution_count": null,
      "id": "ac02e6d2",
      "metadata": {
        "id": "ac02e6d2",
        "outputId": "d3145af4-049b-42fc-f9d8-ceeaed1373ee"
      },
      "outputs": [
        {
          "name": "stdout",
          "output_type": "stream",
          "text": [
            "Welcome to the bank!\n"
          ]
        }
      ],
      "source": [
        "loc = 'Bank'\n",
        "\n",
        "if loc == 'Auto Shop':\n",
        "    print('Welcome to the Auto Shop!')\n",
        "elif loc == 'Bank':\n",
        "    print('Welcome to the bank!')\n",
        "else:\n",
        "    print('Where are you?')"
      ]
    },
    {
      "cell_type": "markdown",
      "id": "4bd9727e",
      "metadata": {
        "id": "4bd9727e"
      },
      "source": [
        "Обратите внимание на вложенные операторы <code>if</code> - они проверяются до тех пор, пока не встретится условие, которое принимает значение True. И тогда выполняется код, расположенный после этого условия.  Вы можете поместить сколько угодно операторов <code>elif</code>, прежде чем указать завершающий <code>else</code>.\n",
        "\n",
        "Рассмотрим еще два простых примера для операторов <code>if</code>, <code>elif</code> и <code>else</code>:"
      ]
    },
    {
      "cell_type": "code",
      "execution_count": null,
      "id": "43caf98d",
      "metadata": {
        "id": "43caf98d",
        "outputId": "d857be76-02a9-4e8e-c9fc-2bcee7da56b7"
      },
      "outputs": [
        {
          "name": "stdout",
          "output_type": "stream",
          "text": [
            "Welcome Sammy!\n"
          ]
        }
      ],
      "source": [
        "person = 'Sammy'\n",
        "\n",
        "if person == 'Sammy':\n",
        "    print('Welcome Sammy!')\n",
        "else:\n",
        "    print(\"Welcome, what's your name?\")"
      ]
    },
    {
      "cell_type": "code",
      "execution_count": null,
      "id": "a14b7453",
      "metadata": {
        "id": "a14b7453",
        "outputId": "fc035a14-1ef6-4fc6-9493-d80edaaad0a3"
      },
      "outputs": [
        {
          "name": "stdout",
          "output_type": "stream",
          "text": [
            "Welcome George!\n"
          ]
        }
      ],
      "source": [
        "person = 'George'\n",
        "\n",
        "if person == 'Sammy':\n",
        "    print('Welcome Sammy!')\n",
        "elif person =='George':\n",
        "    print('Welcome George!')\n",
        "else:\n",
        "    print(\"Welcome, what's your name?\")"
      ]
    },
    {
      "cell_type": "markdown",
      "id": "3673e71b",
      "metadata": {
        "id": "3673e71b"
      },
      "source": [
        "## Пример 1\n",
        "\n",
        "Пусть от пользователя требуется ввести два целых числа: температуру на улице вчера и сегодня. А программа ответит — сегодня теплее, холоднее или же температура не изменилась:\n",
        "```\n",
        "yesterday_temp = int(input())\n",
        "today_temp = int(input())\n",
        "if today_temp > yesterday_temp:\n",
        "    print(\"Сегодня теплее, чем вчера.\")\n",
        "elif today_temp < yesterday_temp:\n",
        "    print(\"Сегодня холоднее, чем вчера.\")\n",
        "else:\n",
        "    print(\"Сегодня такая же температура, как вчера.\")\n",
        "```\n",
        "\n",
        "Оператор if является началом условной конструкции. Далее идёт условие, которое возвращает логическое значение True (истина) или False (ложь). Завершается условие символом «двоеточие». Затем — обязательный отступ в четыре пробела, он показывает, что строки объединяются в один блок. Отступ аналогичен использованию фигурных скобок или ключевых слов begin и end в других языках программирования.\n",
        "\n",
        "Тело условной конструкции может содержать одно или несколько выражений (строк). По завершении тела может идти следующее условие, которое начинается с оператора elif (сокращение от else if — «иначе если»). Оно проверяется только в случае, если предыдущее условие не было истинным.\n",
        "\n",
        "Синтаксис в elif аналогичен if. Операторов elif для одного блока условного оператора может быть несколько, а может не быть совсем. Последним идёт оператор else, который не содержит условия, а выполняется, только если ни одно из предыдущих условий в if и elif не выполнилось. Оператор else не является обязательным.\n",
        "\n",
        "Ниже выполните данный пример\n"
      ]
    },
    {
      "cell_type": "code",
      "execution_count": 2,
      "id": "b8d6772d",
      "metadata": {
        "colab": {
          "base_uri": "https://localhost:8080/"
        },
        "id": "b8d6772d",
        "outputId": "300611ce-6b47-4061-b718-016492287366"
      },
      "outputs": [
        {
          "output_type": "stream",
          "name": "stdout",
          "text": [
            "20\n",
            "30\n",
            "Сегодня теплее, чем вчера.\n"
          ]
        }
      ],
      "source": [
        "yesterday_temp = int(input())\n",
        "today_temp = int(input())\n",
        "if today_temp > yesterday_temp:\n",
        "    print(\"Сегодня теплее, чем вчера.\")\n",
        "elif today_temp < yesterday_temp:\n",
        "    print(\"Сегодня холоднее, чем вчера.\")\n",
        "else:\n",
        "    print(\"Сегодня такая же температура, как вчера.\")"
      ]
    },
    {
      "cell_type": "markdown",
      "id": "a525713a",
      "metadata": {
        "id": "a525713a"
      },
      "source": [
        "## Пример 2\n",
        "\n",
        "Пользователь должен ввести первую и последнюю буквы русского алфавита. Ввод производится в двух отдельных строках и в любом регистре.\n",
        "\n",
        "```\n",
        "print(\"Введите первую и последнюю буквы русского алфавита.\")\n",
        "first_letter = input()\n",
        "last_letter = input()\n",
        "if (first_letter == \"а\" or first_letter == \"А\") and (\n",
        "        last_letter == \"я\" or last_letter == \"Я\"):\n",
        "    print(\"Верно.\")\n",
        "else:\n",
        "    print(\"Неверно.\")\n",
        "```    \n",
        "\n",
        "\n",
        "Ниже выполните данный пример"
      ]
    },
    {
      "cell_type": "code",
      "execution_count": 3,
      "id": "fe3ee7bc",
      "metadata": {
        "colab": {
          "base_uri": "https://localhost:8080/"
        },
        "id": "fe3ee7bc",
        "outputId": "dc82d98b-a492-43c7-904a-5123405a0a2e"
      },
      "outputs": [
        {
          "output_type": "stream",
          "name": "stdout",
          "text": [
            "Введите первую и последнюю буквы русского алфавита.\n",
            "a\n",
            "r\n",
            "Неверно.\n"
          ]
        }
      ],
      "source": [
        "print(\"Введите первую и последнюю буквы русского алфавита.\")\n",
        "first_letter = input()\n",
        "last_letter = input()\n",
        "if (first_letter == \"а\" or first_letter == \"А\") and (\n",
        "        last_letter == \"я\" or last_letter == \"Я\"):\n",
        "    print(\"Верно.\")\n",
        "else:\n",
        "    print(\"Неверно.\")"
      ]
    },
    {
      "cell_type": "markdown",
      "id": "a7cda579",
      "metadata": {
        "id": "a7cda579"
      },
      "source": [
        "## Пример 3\n",
        "\n",
        "Проверим, что во введённой строке встречается корень «добр» (для слов «добрый», «доброе» и подобных):\n",
        "\n",
        "```\n",
        "text = input()\n",
        "if \"добр\" in text:\n",
        "    print(\"Встретилось 'доброе' слово.\")\n",
        "else:\n",
        "    print(\"Добрых слов не найдено.\")\n",
        "```\n",
        "\n",
        "Ниже выполните данный пример"
      ]
    },
    {
      "cell_type": "code",
      "execution_count": 4,
      "id": "10cd887f",
      "metadata": {
        "colab": {
          "base_uri": "https://localhost:8080/"
        },
        "id": "10cd887f",
        "outputId": "9f16b045-82e8-45a8-96e6-258165076c04"
      },
      "outputs": [
        {
          "output_type": "stream",
          "name": "stdout",
          "text": [
            "доброта\n",
            "Встретилось 'доброе' слово.\n"
          ]
        }
      ],
      "source": [
        "text = input()\n",
        "if \"добр\" in text:\n",
        "    print(\"Встретилось 'доброе' слово.\")\n",
        "else:\n",
        "    print(\"Добрых слов не найдено.\")"
      ]
    },
    {
      "cell_type": "markdown",
      "id": "42c6a8c6",
      "metadata": {
        "id": "42c6a8c6"
      },
      "source": [
        "## Задание\n",
        "\n",
        "Решите приведенные задачи с использованием условного оператора. Числа A,B,C нужно ввести с клавиатуры.\n",
        "\n",
        "1. Дано целое число A. Проверить истинность высказывания: «Число A является положительным».\n",
        "2. Дано целое число A. Проверить истинность высказывания: «Число A является нечетным».\n",
        "3. Дано целое число A. Проверить истинность высказывания: «Число A является четным».\n",
        "4. Даны два целых числа: A, B. Проверить истинность высказывания: «Справедливы неравенства A > 2 и B ≤ 3».\n",
        "4. Даны два целых числа: A, B. Проверить истинность высказывания: «Справедливы неравенства A ≥ 0 или B < –2».\n",
        "4. Даны три целых числа: A, B, C. Проверить истинность высказыва-ния: «Справедливо двойное неравенство A < B < C».\n",
        "4. Даны три целых числа: A, B, C. Проверить истинность высказыва-ния: «Число B находится между числами A и C».\n",
        "\n",
        "Пример решения задания 1:\n",
        "\n",
        "```\n",
        "A=int(input(\"A= \"))\n",
        "\n",
        "if A>0:\n",
        "    print(\"положительное\")\n",
        "else:\n",
        "    print(\"не положительное\")\n",
        "```\n"
      ]
    },
    {
      "cell_type": "code",
      "execution_count": 5,
      "id": "c174ae2d",
      "metadata": {
        "colab": {
          "base_uri": "https://localhost:8080/"
        },
        "id": "c174ae2d",
        "outputId": "daa8ad9c-f349-4b37-8f55-91ffffb75a3d"
      },
      "outputs": [
        {
          "output_type": "stream",
          "name": "stdout",
          "text": [
            "Введите целое число A: 1\n",
            "Введите целое число B: 2\n",
            "Введите целое число C: 3\n",
            "положительное\n",
            "нечетное\n",
            "нечетное\n",
            "Не справедливы неравенства A > 2 и B ≤ 3.\n",
            "Справедливы неравенства A ≥ 0 или B < –2.\n",
            "Справедливо двойное неравенство A < B < C.\n",
            "Число B находится между числами A и C.\n"
          ]
        }
      ],
      "source": [
        "A = int(input(\"Введите целое число A: \"))\n",
        "B = int(input(\"Введите целое число B: \"))\n",
        "C = int(input(\"Введите целое число C: \"))\n",
        "\n",
        "if A > 0:\n",
        "    print(\"положительное\")\n",
        "else:\n",
        "    print(\"не положительное\")\n",
        "\n",
        "if A % 2 != 0:\n",
        "    print(\"нечетное\")\n",
        "else:\n",
        "    print(\"четное\")\n",
        "\n",
        "if A % 2 == 0:\n",
        "    print(\"четное\")\n",
        "else:\n",
        "    print(\"нечетное\")\n",
        "\n",
        "if A > 2 and B <= 3:\n",
        "    print(\"Справедливы неравенства A > 2 и B ≤ 3.\")\n",
        "else:\n",
        "    print(\"Не справедливы неравенства A > 2 и B ≤ 3.\")\n",
        "\n",
        "if A >= 0 or B < -2:\n",
        "    print(\"Справедливы неравенства A ≥ 0 или B < –2.\")\n",
        "else:\n",
        "    print(\"Не справедливы неравенства A ≥ 0 или B < –2.\")\n",
        "\n",
        "if A < B < C:\n",
        "    print(\"Справедливо двойное неравенство A < B < C.\")\n",
        "else:\n",
        "    print(\"Не справедливо двойное неравенство A < B < C.\")\n",
        "\n",
        "if (A < B < C) or (C < B < A):\n",
        "    print(\"Число B находится между числами A и C.\")\n",
        "else:\n",
        "    print(\"Число B не находится между числами A и C.\")"
      ]
    }
  ],
  "metadata": {
    "kernelspec": {
      "display_name": "Python 3 (ipykernel)",
      "language": "python",
      "name": "python3"
    },
    "language_info": {
      "codemirror_mode": {
        "name": "ipython",
        "version": 3
      },
      "file_extension": ".py",
      "mimetype": "text/x-python",
      "name": "python",
      "nbconvert_exporter": "python",
      "pygments_lexer": "ipython3",
      "version": "3.9.13"
    },
    "colab": {
      "provenance": []
    }
  },
  "nbformat": 4,
  "nbformat_minor": 5
}